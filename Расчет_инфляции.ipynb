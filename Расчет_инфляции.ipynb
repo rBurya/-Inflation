{
  "nbformat": 4,
  "nbformat_minor": 0,
  "metadata": {
    "colab": {
      "provenance": []
    },
    "kernelspec": {
      "name": "python3",
      "display_name": "Python 3"
    },
    "language_info": {
      "name": "python"
    }
  },
  "cells": [
    {
      "cell_type": "code",
      "execution_count": 71,
      "metadata": {
        "id": "Zbq2trDqonxb"
      },
      "outputs": [],
      "source": [
        "import pandas as pd\n",
        "import matplotlib.pyplot as plt\n",
        "\n",
        "df_2019 = pd.read_excel('/content/Аналитик инфляция.xlsx', sheet_name='сентябрь 2019 (задание 1)')\n",
        "df_2020 = pd.read_excel('/content/Аналитик инфляция.xlsx', sheet_name='сентябрь 2020 (задание 1)')"
      ]
    },
    {
      "cell_type": "code",
      "source": [
        "#Посмотрим на общюю информацию о таблицах\n",
        "print(df_2019.info())\n",
        "print(df_2020.info())"
      ],
      "metadata": {
        "colab": {
          "base_uri": "https://localhost:8080/",
          "height": 0
        },
        "collapsed": true,
        "id": "i_TZEHU0o1_w",
        "outputId": "bcb1a27e-b22e-4e37-ba05-85c62bbbfe0e"
      },
      "execution_count": 72,
      "outputs": [
        {
          "output_type": "stream",
          "name": "stdout",
          "text": [
            "<class 'pandas.core.frame.DataFrame'>\n",
            "RangeIndex: 13758 entries, 0 to 13757\n",
            "Data columns (total 3 columns):\n",
            " #   Column                   Non-Null Count  Dtype \n",
            "---  ------                   --------------  ----- \n",
            " 0   Код                      13755 non-null  object\n",
            " 1   Количество               13745 non-null  object\n",
            " 2   Стоимость продаж (руб.)  13756 non-null  object\n",
            "dtypes: object(3)\n",
            "memory usage: 322.6+ KB\n",
            "None\n",
            "<class 'pandas.core.frame.DataFrame'>\n",
            "RangeIndex: 16201 entries, 0 to 16200\n",
            "Data columns (total 3 columns):\n",
            " #   Column                   Non-Null Count  Dtype \n",
            "---  ------                   --------------  ----- \n",
            " 0   Код                      16198 non-null  object\n",
            " 1   Количество               16195 non-null  object\n",
            " 2   Стоимость продаж (руб.)  16199 non-null  object\n",
            "dtypes: object(3)\n",
            "memory usage: 379.8+ KB\n",
            "None\n"
          ]
        }
      ]
    },
    {
      "cell_type": "code",
      "source": [
        "#Уберём пустые значения из данных\n",
        "df_2019_new = df_2019.dropna()\n",
        "df_2020_new = df_2020.dropna()"
      ],
      "metadata": {
        "id": "Qn2a6FdNpTKG"
      },
      "execution_count": 73,
      "outputs": []
    },
    {
      "cell_type": "code",
      "source": [
        "# Создаем копии DataFrame перед изменениями\n",
        "df_2019_new = df_2019_new.copy()\n",
        "df_2020_new = df_2020_new.copy()\n",
        "\n",
        "# Приводим строки с ценами и количеством товаров к числовому формату\n",
        "df_2019_new['Стоимость продаж (руб.)'] = df_2019_new['Стоимость продаж (руб.)'].astype(float)\n",
        "df_2020_new['Стоимость продаж (руб.)'] = df_2020_new['Стоимость продаж (руб.)'].astype(float)\n",
        "df_2019_new['Количество'] = df_2019_new['Количество'].astype(float)\n",
        "df_2020_new['Количество'] = df_2020_new['Количество'].astype(float)\n",
        "\n",
        "# Рассчитываем стоимость на единицу товара\n",
        "df_2019_new['Стоимость на единицу (2019)'] = df_2019_new['Стоимость продаж (руб.)'] / df_2019_new['Количество']\n",
        "df_2020_new['Стоимость на единицу (2020)'] = df_2020_new['Стоимость продаж (руб.)'] / df_2020_new['Количество']\n",
        "\n",
        "# Оставляем только буквы и цифры в коде товара\n",
        "df_2019_new['Код'] = df_2019_new['Код'].str.replace(r'[^a-zA-Zа-яА-Я0-9]', '', regex=True)\n",
        "df_2020_new['Код'] = df_2020_new['Код'].str.replace(r'[^a-zA-Zа-яА-Я0-9]', '', regex=True)\n",
        "\n",
        "#Соединим 2 таблицы по Коду товара\n",
        "merged_df = pd.merge(df_2019_new[['Код', 'Стоимость на единицу (2019)']],\n",
        "                     df_2020_new[['Код', 'Стоимость на единицу (2020)']],\n",
        "                     on='Код')\n",
        "\n",
        "# Преобразуем все числовые данные в абсолютные значения (если вдруг такие имеются)\n",
        "merged_df[['Стоимость на единицу (2019)', 'Стоимость на единицу (2020)']] = merged_df[['Стоимость на единицу (2019)', 'Стоимость на единицу (2020)']].abs()\n",
        "\n",
        "# Рассчитываем инфляцию для каждого товара\n",
        "merged_df['Инфляция (%)'] = ((merged_df['Стоимость на единицу (2020)'] - merged_df['Стоимость на единицу (2019)']) /\n",
        "                             merged_df['Стоимость на единицу (2019)']) * 100\n"
      ],
      "metadata": {
        "collapsed": true,
        "id": "oSLdT1pppdhB"
      },
      "execution_count": 74,
      "outputs": []
    },
    {
      "cell_type": "code",
      "source": [
        "import matplotlib.pyplot as plt\n",
        "\n",
        "# Построение гистограммы\n",
        "filtered_df['Инфляция (%)'].hist(bins=20)\n",
        "\n",
        "# Добавление заголовка и подписей осей\n",
        "plt.title('Распределение инфляции (%)')\n",
        "plt.xlabel('Инфляция (%)')\n",
        "plt.ylabel('Частота')\n",
        "\n",
        "# Отображение графика\n",
        "plt.show()"
      ],
      "metadata": {
        "colab": {
          "base_uri": "https://localhost:8080/",
          "height": 472
        },
        "id": "0ioLk69m1tb6",
        "outputId": "019b9934-a10b-4d6d-a645-c0cfdf1c6e43"
      },
      "execution_count": 75,
      "outputs": [
        {
          "output_type": "display_data",
          "data": {
            "text/plain": [
              "<Figure size 640x480 with 1 Axes>"
            ],
            "image/png": "[encoded data removed]"
          },
          "metadata": {}
        }
      ]
    },
    {
      "cell_type": "code",
      "source": [
        "# Т.к. распреление близко к нормальному применение правила трех сигм для рассчета среднего значения инфляции.\n",
        "mean_sales = merged_df['Инфляция (%)'].mean()\n",
        "std_sales = merged_df['Инфляция (%)'].std()\n",
        "\n",
        "lower_bound = mean_sales - 3 * std_sales\n",
        "upper_bound = mean_sales + 3 * std_sales\n",
        "\n",
        "# Отфильтруем данные согласно правилу 3х сигм\n",
        "filtered_df = merged_df[(merged_df['Инфляция (%)'] >= lower_bound) & (merged_df['Инфляция (%)'] <= upper_bound)]\n",
        "\n",
        "print(\"Средняя инфляция:\", filtered_df['Инфляция (%)'].mean().round(2))"
      ],
      "metadata": {
        "colab": {
          "base_uri": "https://localhost:8080/",
          "height": 0
        },
        "id": "pNXCA_XB23Gy",
        "outputId": "80787bf9-da9e-4c9e-bf8c-2a6936c04c43"
      },
      "execution_count": 76,
      "outputs": [
        {
          "output_type": "stream",
          "name": "stdout",
          "text": [
            "Средняя инфляция: 12.51\n"
          ]
        }
      ]
    }
  ]
}